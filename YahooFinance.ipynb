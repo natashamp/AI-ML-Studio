{
 "cells": [
  {
   "cell_type": "code",
<<<<<<< HEAD
   "execution_count": 1,
   "metadata": {},
   "outputs": [
    {
     "name": "stderr",
     "output_type": "stream",
     "text": [
      "/Library/Frameworks/Python.framework/Versions/3.10/lib/python3.10/site-packages/scipy/__init__.py:146: UserWarning: A NumPy version >=1.17.3 and <1.25.0 is required for this version of SciPy (detected version 1.26.4\n",
      "  warnings.warn(f\"A NumPy version >={np_minversion} and <{np_maxversion}\"\n",
      "2024-10-04 22:41:23.602296: I tensorflow/core/platform/cpu_feature_guard.cc:210] This TensorFlow binary is optimized to use available CPU instructions in performance-critical operations.\n",
      "To enable the following instructions: AVX2 FMA, in other operations, rebuild TensorFlow with the appropriate compiler flags.\n"
     ]
    }
   ],
=======
   "execution_count": 4,
   "metadata": {},
   "outputs": [],
>>>>>>> eac3ee4 (all files)
   "source": [
    "#import library\n",
    "import numpy as np\n",
    "import pandas as pd\n",
    "import yfinance as yf #Stock Data\n",
    "import matplotlib.pyplot as plt\n",
    "from datetime import datetime, timedelta\n",
    "import seaborn as sns\n",
    "sns.set_style('darkgrid')\n",
    "import warnings\n",
    "warnings.filterwarnings(\"ignore\")\n",
    "from transformers import pipeline\n",
    "import finnhub #Company News\n",
    "import torch\n",
    "\n",
    "pd.set_option('display.max_colwidth',180)"
   ]
  },
  {
   "cell_type": "markdown",
   "metadata": {},
   "source": [
    "## Companies top 500 "
   ]
  },
  {
   "cell_type": "code",
<<<<<<< HEAD
   "execution_count": 21,
=======
   "execution_count": 33,
>>>>>>> eac3ee4 (all files)
   "metadata": {},
   "outputs": [
    {
     "data": {
      "text/html": [
       "<div>\n",
       "<style scoped>\n",
       "    .dataframe tbody tr th:only-of-type {\n",
       "        vertical-align: middle;\n",
       "    }\n",
       "\n",
       "    .dataframe tbody tr th {\n",
       "        vertical-align: top;\n",
       "    }\n",
       "\n",
       "    .dataframe thead th {\n",
       "        text-align: right;\n",
       "    }\n",
       "</style>\n",
       "<table border=\"1\" class=\"dataframe\">\n",
       "  <thead>\n",
       "    <tr style=\"text-align: right;\">\n",
       "      <th></th>\n",
       "      <th>Symbol</th>\n",
       "      <th>Security</th>\n",
       "      <th>GICS Sector</th>\n",
       "      <th>GICS Sub-Industry</th>\n",
       "      <th>Headquarters Location</th>\n",
       "      <th>Date added</th>\n",
       "      <th>CIK</th>\n",
       "      <th>Founded</th>\n",
       "    </tr>\n",
       "  </thead>\n",
       "  <tbody>\n",
       "    <tr>\n",
       "      <th>0</th>\n",
       "      <td>MMM</td>\n",
       "      <td>3M</td>\n",
       "      <td>Industrials</td>\n",
       "      <td>Industrial Conglomerates</td>\n",
       "      <td>Saint Paul, Minnesota</td>\n",
       "      <td>1957-03-04</td>\n",
       "      <td>66740</td>\n",
       "      <td>1902</td>\n",
       "    </tr>\n",
       "    <tr>\n",
       "      <th>1</th>\n",
       "      <td>AOS</td>\n",
       "      <td>A. O. Smith</td>\n",
       "      <td>Industrials</td>\n",
       "      <td>Building Products</td>\n",
       "      <td>Milwaukee, Wisconsin</td>\n",
       "      <td>2017-07-26</td>\n",
       "      <td>91142</td>\n",
       "      <td>1916</td>\n",
       "    </tr>\n",
       "    <tr>\n",
       "      <th>2</th>\n",
       "      <td>ABT</td>\n",
       "      <td>Abbott Laboratories</td>\n",
       "      <td>Health Care</td>\n",
       "      <td>Health Care Equipment</td>\n",
       "      <td>North Chicago, Illinois</td>\n",
       "      <td>1957-03-04</td>\n",
       "      <td>1800</td>\n",
       "      <td>1888</td>\n",
       "    </tr>\n",
       "    <tr>\n",
       "      <th>3</th>\n",
       "      <td>ABBV</td>\n",
       "      <td>AbbVie</td>\n",
       "      <td>Health Care</td>\n",
       "      <td>Biotechnology</td>\n",
       "      <td>North Chicago, Illinois</td>\n",
       "      <td>2012-12-31</td>\n",
       "      <td>1551152</td>\n",
       "      <td>2013 (1888)</td>\n",
       "    </tr>\n",
       "    <tr>\n",
       "      <th>4</th>\n",
       "      <td>ACN</td>\n",
       "      <td>Accenture</td>\n",
       "      <td>Information Technology</td>\n",
       "      <td>IT Consulting &amp; Other Services</td>\n",
       "      <td>Dublin, Ireland</td>\n",
       "      <td>2011-07-06</td>\n",
       "      <td>1467373</td>\n",
       "      <td>1989</td>\n",
       "    </tr>\n",
       "    <tr>\n",
       "      <th>5</th>\n",
       "      <td>ADBE</td>\n",
       "      <td>Adobe Inc.</td>\n",
       "      <td>Information Technology</td>\n",
       "      <td>Application Software</td>\n",
       "      <td>San Jose, California</td>\n",
       "      <td>1997-05-05</td>\n",
       "      <td>796343</td>\n",
       "      <td>1982</td>\n",
       "    </tr>\n",
       "    <tr>\n",
       "      <th>6</th>\n",
       "      <td>AMD</td>\n",
       "      <td>Advanced Micro Devices</td>\n",
       "      <td>Information Technology</td>\n",
       "      <td>Semiconductors</td>\n",
       "      <td>Santa Clara, California</td>\n",
       "      <td>2017-03-20</td>\n",
       "      <td>2488</td>\n",
       "      <td>1969</td>\n",
       "    </tr>\n",
       "    <tr>\n",
       "      <th>7</th>\n",
       "      <td>AES</td>\n",
       "      <td>AES Corporation</td>\n",
       "      <td>Utilities</td>\n",
       "      <td>Independent Power Producers &amp; Energy Traders</td>\n",
       "      <td>Arlington, Virginia</td>\n",
       "      <td>1998-10-02</td>\n",
       "      <td>874761</td>\n",
       "      <td>1981</td>\n",
       "    </tr>\n",
       "    <tr>\n",
       "      <th>8</th>\n",
       "      <td>AFL</td>\n",
       "      <td>Aflac</td>\n",
       "      <td>Financials</td>\n",
       "      <td>Life &amp; Health Insurance</td>\n",
       "      <td>Columbus, Georgia</td>\n",
       "      <td>1999-05-28</td>\n",
       "      <td>4977</td>\n",
       "      <td>1955</td>\n",
       "    </tr>\n",
       "    <tr>\n",
       "      <th>9</th>\n",
       "      <td>A</td>\n",
       "      <td>Agilent Technologies</td>\n",
       "      <td>Health Care</td>\n",
       "      <td>Life Sciences Tools &amp; Services</td>\n",
       "      <td>Santa Clara, California</td>\n",
       "      <td>2000-06-05</td>\n",
       "      <td>1090872</td>\n",
       "      <td>1999</td>\n",
       "    </tr>\n",
       "  </tbody>\n",
       "</table>\n",
       "</div>"
      ],
      "text/plain": [
       "  Symbol                Security             GICS Sector  \\\n",
       "0    MMM                      3M             Industrials   \n",
       "1    AOS             A. O. Smith             Industrials   \n",
       "2    ABT     Abbott Laboratories             Health Care   \n",
       "3   ABBV                  AbbVie             Health Care   \n",
       "4    ACN               Accenture  Information Technology   \n",
       "5   ADBE              Adobe Inc.  Information Technology   \n",
       "6    AMD  Advanced Micro Devices  Information Technology   \n",
       "7    AES         AES Corporation               Utilities   \n",
       "8    AFL                   Aflac              Financials   \n",
       "9      A    Agilent Technologies             Health Care   \n",
       "\n",
       "                              GICS Sub-Industry    Headquarters Location  \\\n",
       "0                      Industrial Conglomerates    Saint Paul, Minnesota   \n",
       "1                             Building Products     Milwaukee, Wisconsin   \n",
       "2                         Health Care Equipment  North Chicago, Illinois   \n",
       "3                                 Biotechnology  North Chicago, Illinois   \n",
       "4                IT Consulting & Other Services          Dublin, Ireland   \n",
       "5                          Application Software     San Jose, California   \n",
       "6                                Semiconductors  Santa Clara, California   \n",
       "7  Independent Power Producers & Energy Traders      Arlington, Virginia   \n",
       "8                       Life & Health Insurance        Columbus, Georgia   \n",
       "9                Life Sciences Tools & Services  Santa Clara, California   \n",
       "\n",
       "   Date added      CIK      Founded  \n",
       "0  1957-03-04    66740         1902  \n",
       "1  2017-07-26    91142         1916  \n",
       "2  1957-03-04     1800         1888  \n",
       "3  2012-12-31  1551152  2013 (1888)  \n",
       "4  2011-07-06  1467373         1989  \n",
       "5  1997-05-05   796343         1982  \n",
       "6  2017-03-20     2488         1969  \n",
       "7  1998-10-02   874761         1981  \n",
       "8  1999-05-28     4977         1955  \n",
       "9  2000-06-05  1090872         1999  "
      ]
     },
<<<<<<< HEAD
     "execution_count": 21,
=======
     "execution_count": 33,
>>>>>>> eac3ee4 (all files)
     "metadata": {},
     "output_type": "execute_result"
    }
   ],
   "source": [
<<<<<<< HEAD
    "companies = pd.read_csv('/Users/ndridiby/Desktop/AI:ML Studio/S&P_500_companies.csv')\n",
=======
    "companies = pd.read_csv('/Users/natashaprabhoo/AI-ML-Studio/S&P_500_companies.csv')\n",
>>>>>>> eac3ee4 (all files)
    "companies.head(10)"
   ]
  },
  {
   "cell_type": "markdown",
   "metadata": {},
   "source": [
    "## Stock Data"
   ]
  },
  {
   "cell_type": "code",
<<<<<<< HEAD
   "execution_count": 22,
=======
   "execution_count": 35,
>>>>>>> eac3ee4 (all files)
   "metadata": {},
   "outputs": [
    {
     "name": "stderr",
     "output_type": "stream",
     "text": [
<<<<<<< HEAD
      "[*********************100%%**********************]  1 of 1 completed\n"
=======
      "[*********************100%***********************]  1 of 1 completed\n"
>>>>>>> eac3ee4 (all files)
     ]
    },
    {
     "data": {
      "text/html": [
       "<div>\n",
       "<style scoped>\n",
       "    .dataframe tbody tr th:only-of-type {\n",
       "        vertical-align: middle;\n",
       "    }\n",
       "\n",
       "    .dataframe tbody tr th {\n",
       "        vertical-align: top;\n",
       "    }\n",
       "\n",
       "    .dataframe thead th {\n",
       "        text-align: right;\n",
       "    }\n",
       "</style>\n",
       "<table border=\"1\" class=\"dataframe\">\n",
       "  <thead>\n",
       "    <tr style=\"text-align: right;\">\n",
       "      <th></th>\n",
       "      <th>Date</th>\n",
       "      <th>Open</th>\n",
       "      <th>High</th>\n",
       "      <th>Low</th>\n",
       "      <th>Close</th>\n",
       "      <th>Adj Close</th>\n",
       "      <th>Volume</th>\n",
       "    </tr>\n",
       "  </thead>\n",
       "  <tbody>\n",
       "    <tr>\n",
       "      <th>0</th>\n",
       "      <td>2023-01-03</td>\n",
<<<<<<< HEAD
       "      <td>87.385002</td>\n",
       "      <td>88.139999</td>\n",
       "      <td>84.300003</td>\n",
       "      <td>84.900002</td>\n",
       "      <td>84.900002</td>\n",
       "      <td>3901200</td>\n",
=======
       "      <td>135.240005</td>\n",
       "      <td>136.740005</td>\n",
       "      <td>133.889999</td>\n",
       "      <td>135.119995</td>\n",
       "      <td>128.148758</td>\n",
       "      <td>11054800</td>\n",
>>>>>>> eac3ee4 (all files)
       "    </tr>\n",
       "    <tr>\n",
       "      <th>1</th>\n",
       "      <td>2023-01-04</td>\n",
<<<<<<< HEAD
       "      <td>85.889999</td>\n",
       "      <td>88.839996</td>\n",
       "      <td>84.790001</td>\n",
       "      <td>88.720001</td>\n",
       "      <td>88.720001</td>\n",
       "      <td>4817100</td>\n",
=======
       "      <td>135.990005</td>\n",
       "      <td>137.679993</td>\n",
       "      <td>135.570007</td>\n",
       "      <td>136.380005</td>\n",
       "      <td>129.343781</td>\n",
       "      <td>11687600</td>\n",
>>>>>>> eac3ee4 (all files)
       "    </tr>\n",
       "    <tr>\n",
       "      <th>2</th>\n",
       "      <td>2023-01-05</td>\n",
<<<<<<< HEAD
       "      <td>88.480003</td>\n",
       "      <td>88.500000</td>\n",
       "      <td>86.750000</td>\n",
       "      <td>87.709999</td>\n",
       "      <td>87.709999</td>\n",
       "      <td>3419000</td>\n",
=======
       "      <td>135.660004</td>\n",
       "      <td>135.710007</td>\n",
       "      <td>133.699997</td>\n",
       "      <td>135.350006</td>\n",
       "      <td>129.315109</td>\n",
       "      <td>8381300</td>\n",
>>>>>>> eac3ee4 (all files)
       "    </tr>\n",
       "    <tr>\n",
       "      <th>3</th>\n",
       "      <td>2023-01-06</td>\n",
<<<<<<< HEAD
       "      <td>88.519997</td>\n",
       "      <td>88.739998</td>\n",
       "      <td>85.709999</td>\n",
       "      <td>88.519997</td>\n",
       "      <td>88.519997</td>\n",
       "      <td>4348400</td>\n",
=======
       "      <td>136.130005</td>\n",
       "      <td>138.380005</td>\n",
       "      <td>134.490005</td>\n",
       "      <td>137.940002</td>\n",
       "      <td>131.789612</td>\n",
       "      <td>10029100</td>\n",
>>>>>>> eac3ee4 (all files)
       "    </tr>\n",
       "    <tr>\n",
       "      <th>4</th>\n",
       "      <td>2023-01-09</td>\n",
<<<<<<< HEAD
       "      <td>90.254997</td>\n",
       "      <td>92.050003</td>\n",
       "      <td>88.879997</td>\n",
       "      <td>89.239998</td>\n",
       "      <td>89.239998</td>\n",
       "      <td>4319400</td>\n",
=======
       "      <td>138.600006</td>\n",
       "      <td>138.880005</td>\n",
       "      <td>136.880005</td>\n",
       "      <td>137.369995</td>\n",
       "      <td>131.245026</td>\n",
       "      <td>8482300</td>\n",
>>>>>>> eac3ee4 (all files)
       "    </tr>\n",
       "  </tbody>\n",
       "</table>\n",
       "</div>"
      ],
      "text/plain": [
<<<<<<< HEAD
       "        Date       Open       High        Low      Close  Adj Close   Volume\n",
       "0 2023-01-03  87.385002  88.139999  84.300003  84.900002  84.900002  3901200\n",
       "1 2023-01-04  85.889999  88.839996  84.790001  88.720001  88.720001  4817100\n",
       "2 2023-01-05  88.480003  88.500000  86.750000  87.709999  87.709999  3419000\n",
       "3 2023-01-06  88.519997  88.739998  85.709999  88.519997  88.519997  4348400\n",
       "4 2023-01-09  90.254997  92.050003  88.879997  89.239998  89.239998  4319400"
      ]
     },
     "execution_count": 22,
=======
       "        Date        Open        High         Low       Close   Adj Close  \\\n",
       "0 2023-01-03  135.240005  136.740005  133.889999  135.119995  128.148758   \n",
       "1 2023-01-04  135.990005  137.679993  135.570007  136.380005  129.343781   \n",
       "2 2023-01-05  135.660004  135.710007  133.699997  135.350006  129.315109   \n",
       "3 2023-01-06  136.130005  138.380005  134.490005  137.940002  131.789612   \n",
       "4 2023-01-09  138.600006  138.880005  136.880005  137.369995  131.245026   \n",
       "\n",
       "     Volume  \n",
       "0  11054800  \n",
       "1  11687600  \n",
       "2   8381300  \n",
       "3  10029100  \n",
       "4   8482300  "
      ]
     },
     "execution_count": 35,
>>>>>>> eac3ee4 (all files)
     "metadata": {},
     "output_type": "execute_result"
    }
   ],
   "source": [
<<<<<<< HEAD
    "stock_data = yf.download('ABNB',start='2023-1-1',end=datetime.today())\n",
=======
    "stock_data = yf.download('JPM',start='2023-1-1',end=datetime.today())\n",
>>>>>>> eac3ee4 (all files)
    "stock_data = stock_data.reset_index()\n",
    "stock_data.head()"
   ]
  },
  {
   "cell_type": "markdown",
   "metadata": {},
   "source": [
    "## Company News"
   ]
  },
  {
   "cell_type": "code",
<<<<<<< HEAD
   "execution_count": 20,
=======
   "execution_count": 36,
>>>>>>> eac3ee4 (all files)
   "metadata": {},
   "outputs": [
    {
     "data": {
      "text/html": [
       "<div>\n",
       "<style scoped>\n",
       "    .dataframe tbody tr th:only-of-type {\n",
       "        vertical-align: middle;\n",
       "    }\n",
       "\n",
       "    .dataframe tbody tr th {\n",
       "        vertical-align: top;\n",
       "    }\n",
       "\n",
       "    .dataframe thead th {\n",
       "        text-align: right;\n",
       "    }\n",
       "</style>\n",
       "<table border=\"1\" class=\"dataframe\">\n",
       "  <thead>\n",
       "    <tr style=\"text-align: right;\">\n",
       "      <th></th>\n",
       "      <th>datetime</th>\n",
       "      <th>headline</th>\n",
       "      <th>related</th>\n",
       "      <th>source</th>\n",
       "      <th>summary</th>\n",
       "    </tr>\n",
       "  </thead>\n",
       "  <tbody>\n",
       "    <tr>\n",
       "      <th>0</th>\n",
       "      <td>2024-01-01</td>\n",
<<<<<<< HEAD
       "      <td>The Companies I Sold In 2023: Unveiling The Reasons Behind My Decision</td>\n",
       "      <td>ABNB</td>\n",
       "      <td>SeekingAlpha</td>\n",
       "      <td>I focus on investing in the highest quality and growing businesses, while avoiding overpaying. Read about the positions I sold in 2023 and my goals for 2024.</td>\n",
=======
       "      <td>Too Much Leverage Could Bite KKR Stakeholders In 2024 Recession</td>\n",
       "      <td>JPM</td>\n",
       "      <td>SeekingAlpha</td>\n",
       "      <td>KKR &amp; Co. has just experienced an amazing stock price move to the upside in late 2023. Click here to find out why I rate KKR stock a sell and avoid.</td>\n",
>>>>>>> eac3ee4 (all files)
       "    </tr>\n",
       "    <tr>\n",
       "      <th>1</th>\n",
       "      <td>2024-01-01</td>\n",
<<<<<<< HEAD
       "      <td>6 Top Long-Term Stocks On My 2024 Wishlist</td>\n",
       "      <td>ABNB</td>\n",
       "      <td>SeekingAlpha</td>\n",
       "      <td>Discover six long-term investment ideas as the market soars in 2024, with some sectors presenting excellent value and potential for returns when they...</td>\n",
=======
       "      <td>JPMorgan Chase's Ex-Dividend Date Is Thursday, Here's What You Need To Know</td>\n",
       "      <td>JPM</td>\n",
       "      <td>Benzinga</td>\n",
       "      <td>Looking for stock market analysis and research with proves results? Zacks.com offers in-depth financial research with over 30years of proven results.</td>\n",
>>>>>>> eac3ee4 (all files)
       "    </tr>\n",
       "    <tr>\n",
       "      <th>2</th>\n",
       "      <td>2024-01-01</td>\n",
<<<<<<< HEAD
       "      <td>Is Airbnb (ABNB) Outperforming Other Computer and Technology Stocks This Year?</td>\n",
       "      <td>ABNB</td>\n",
       "      <td>Yahoo</td>\n",
       "      <td>Here is how Airbnb, Inc. (ABNB) and DoorDash, Inc. (DASH) have performed compared to their sector so far this year.</td>\n",
=======
       "      <td>Unlocking Intrinsic Value: Analysis of JPMorgan Chase &amp; Co</td>\n",
       "      <td>JPM</td>\n",
       "      <td>GuruFocus</td>\n",
       "      <td>Looking for stock market analysis and research with proves results? Zacks.com offers in-depth financial research with over 30years of proven results.</td>\n",
>>>>>>> eac3ee4 (all files)
       "    </tr>\n",
       "    <tr>\n",
       "      <th>3</th>\n",
       "      <td>2024-01-01</td>\n",
<<<<<<< HEAD
       "      <td>2023 Year In Review</td>\n",
       "      <td>ABNB</td>\n",
       "      <td>TalkMarkets</td>\n",
       "      <td>Looking for stock market analysis and research with proves results? Zacks.com offers in-depth financial research with over 30years of proven results.</td>\n",
       "    </tr>\n",
       "    <tr>\n",
       "      <th>4</th>\n",
       "      <td>2024-01-01</td>\n",
       "      <td>Selling goods online? Be warned: HMRC will soon know about it</td>\n",
       "      <td>ABNB</td>\n",
       "      <td>Yahoo</td>\n",
       "      <td>Whatever it is, from used clothes on Vinted, collectables on eBay, to Airbnb lets, profits will now be under scrutiny</td>\n",
=======
       "      <td>Dow Dogs Gain Some Respect In Q4 2023</td>\n",
       "      <td>JPM</td>\n",
       "      <td>SeekingAlpha</td>\n",
       "      <td>In the fourth quarter, the Dow Dogs generated mid-teens growth that resulted in the 2023 total return equaling 14.5% for the year and almost matching the Dow's return of 16.0%.</td>\n",
       "    </tr>\n",
       "    <tr>\n",
       "      <th>4</th>\n",
       "      <td>2023-12-31</td>\n",
       "      <td>Indian shares, bonds seen rallying in 2024 on continued foreign inflows</td>\n",
       "      <td>JPM</td>\n",
       "      <td>Finnhub</td>\n",
       "      <td>The bull-run in Indianfinancial markets is likely to continue in 2024 as foreigninterest remains robust, with heavy buying expected in bothequity and debt markets, several anal...</td>\n",
>>>>>>> eac3ee4 (all files)
       "    </tr>\n",
       "  </tbody>\n",
       "</table>\n",
       "</div>"
      ],
      "text/plain": [
       "    datetime  \\\n",
       "0 2024-01-01   \n",
       "1 2024-01-01   \n",
       "2 2024-01-01   \n",
       "3 2024-01-01   \n",
<<<<<<< HEAD
       "4 2024-01-01   \n",
       "\n",
       "                                                                         headline  \\\n",
       "0          The Companies I Sold In 2023: Unveiling The Reasons Behind My Decision   \n",
       "1                                      6 Top Long-Term Stocks On My 2024 Wishlist   \n",
       "2  Is Airbnb (ABNB) Outperforming Other Computer and Technology Stocks This Year?   \n",
       "3                                                             2023 Year In Review   \n",
       "4                   Selling goods online? Be warned: HMRC will soon know about it   \n",
       "\n",
       "  related        source  \\\n",
       "0    ABNB  SeekingAlpha   \n",
       "1    ABNB  SeekingAlpha   \n",
       "2    ABNB         Yahoo   \n",
       "3    ABNB   TalkMarkets   \n",
       "4    ABNB         Yahoo   \n",
       "\n",
       "                                                                                                                                                         summary  \n",
       "0  I focus on investing in the highest quality and growing businesses, while avoiding overpaying. Read about the positions I sold in 2023 and my goals for 2024.  \n",
       "1       Discover six long-term investment ideas as the market soars in 2024, with some sectors presenting excellent value and potential for returns when they...  \n",
       "2                                            Here is how Airbnb, Inc. (ABNB) and DoorDash, Inc. (DASH) have performed compared to their sector so far this year.  \n",
       "3          Looking for stock market analysis and research with proves results? Zacks.com offers in-depth financial research with over 30years of proven results.  \n",
       "4                                          Whatever it is, from used clothes on Vinted, collectables on eBay, to Airbnb lets, profits will now be under scrutiny  "
      ]
     },
     "execution_count": 20,
=======
       "4 2023-12-31   \n",
       "\n",
       "                                                                      headline  \\\n",
       "0              Too Much Leverage Could Bite KKR Stakeholders In 2024 Recession   \n",
       "1  JPMorgan Chase's Ex-Dividend Date Is Thursday, Here's What You Need To Know   \n",
       "2                   Unlocking Intrinsic Value: Analysis of JPMorgan Chase & Co   \n",
       "3                                        Dow Dogs Gain Some Respect In Q4 2023   \n",
       "4      Indian shares, bonds seen rallying in 2024 on continued foreign inflows   \n",
       "\n",
       "  related        source  \\\n",
       "0     JPM  SeekingAlpha   \n",
       "1     JPM      Benzinga   \n",
       "2     JPM     GuruFocus   \n",
       "3     JPM  SeekingAlpha   \n",
       "4     JPM       Finnhub   \n",
       "\n",
       "                                                                                                                                                                               summary  \n",
       "0                                 KKR & Co. has just experienced an amazing stock price move to the upside in late 2023. Click here to find out why I rate KKR stock a sell and avoid.  \n",
       "1                                Looking for stock market analysis and research with proves results? Zacks.com offers in-depth financial research with over 30years of proven results.  \n",
       "2                                Looking for stock market analysis and research with proves results? Zacks.com offers in-depth financial research with over 30years of proven results.  \n",
       "3     In the fourth quarter, the Dow Dogs generated mid-teens growth that resulted in the 2023 total return equaling 14.5% for the year and almost matching the Dow's return of 16.0%.  \n",
       "4  The bull-run in Indianfinancial markets is likely to continue in 2024 as foreigninterest remains robust, with heavy buying expected in bothequity and debt markets, several anal...  "
      ]
     },
     "execution_count": 36,
>>>>>>> eac3ee4 (all files)
     "metadata": {},
     "output_type": "execute_result"
    }
   ],
   "source": [
    "finnhub_client = finnhub.Client(api_key=\"cnl0n1pr01qjvabn3kngcnl0n1pr01qjvabn3ko0\")\n",
<<<<<<< HEAD
    "news = pd.DataFrame(finnhub_client.company_news('ABNB', _from=\"2023-01-01\", to='2024-01-01')).drop(columns=['id','image','category','url'])\n",
=======
    "news = pd.DataFrame(finnhub_client.company_news('JPM', _from=\"2023-01-01\", to='2024-01-01')).drop(columns=['id','image','category','url'])\n",
>>>>>>> eac3ee4 (all files)
    "news['datetime'] = pd.to_datetime(news['datetime'], unit='s').dt.strftime('%Y-%m-%d')\n",
    "news['datetime'] = pd.to_datetime(news['datetime'])\n",
    "\n",
    "news.head()"
   ]
  },
  {
   "cell_type": "code",
<<<<<<< HEAD
=======
   "execution_count": 37,
   "metadata": {},
   "outputs": [
    {
     "name": "stdout",
     "output_type": "stream",
     "text": [
      "The number of news articles for AAPL is 218\n",
      "      datetime  article_count\n",
      "0   2023-12-12             15\n",
      "1   2023-12-13             13\n",
      "2   2023-12-14             20\n",
      "3   2023-12-15             16\n",
      "4   2023-12-16              3\n",
      "5   2023-12-17              1\n",
      "6   2023-12-18             17\n",
      "7   2023-12-19             14\n",
      "8   2023-12-20              9\n",
      "9   2023-12-21             14\n",
      "10  2023-12-22             10\n",
      "11  2023-12-23              2\n",
      "12  2023-12-24              4\n",
      "13  2023-12-25              1\n",
      "14  2023-12-26              8\n",
      "15  2023-12-27             17\n",
      "16  2023-12-28              8\n",
      "17  2023-12-29             14\n",
      "18  2023-12-30              3\n",
      "19  2023-12-31              4\n",
      "20  2024-01-01              4\n"
     ]
    }
   ],
   "source": [
    "# Count the news articles\n",
    "news_count = pd.DataFrame(finnhub_client.company_news('JPM', _from=\"2023-01-01\", to='2024-01-01'))\n",
    "number_of_news = len(news_count)\n",
    "print(f'The number of news articles for AAPL is {number_of_news}')\n",
    "\n",
    "# Group the news by day and count the number of articles per day\n",
    "news_count['datetime'] = pd.to_datetime(news['datetime'], unit='s').dt.date\n",
    "news_per_day = news_count.groupby('datetime').size().reset_index(name='article_count')\n",
    "print(news_per_day)\n"
   ]
  },
  {
   "cell_type": "code",
   "execution_count": 40,
   "metadata": {},
   "outputs": [
    {
     "name": "stdout",
     "output_type": "stream",
     "text": [
      "The number of news articles is 69\n",
      "      datetime  article_count\n",
      "0   2023-11-03              4\n",
      "1   2023-11-07              6\n",
      "2   2023-11-08              1\n",
      "3   2023-11-10              3\n",
      "4   2023-11-12              1\n",
      "5   2023-11-13              1\n",
      "6   2023-11-15              2\n",
      "7   2023-11-16              2\n",
      "8   2023-11-17              1\n",
      "9   2023-11-20              3\n",
      "10  2023-11-21              1\n",
      "11  2023-11-22              1\n",
      "12  2023-11-27              1\n",
      "13  2023-11-28              2\n",
      "14  2023-11-29              1\n",
      "15  2023-11-30              3\n",
      "16  2023-12-01              1\n",
      "17  2023-12-04              1\n",
      "18  2023-12-06              1\n",
      "19  2023-12-07              2\n",
      "20  2023-12-11              1\n",
      "21  2023-12-12              1\n",
      "22  2023-12-13              3\n",
      "23  2023-12-14              5\n",
      "24  2023-12-15              2\n",
      "25  2023-12-18              4\n",
      "26  2023-12-19              2\n",
      "27  2023-12-20              2\n",
      "28  2023-12-21              2\n",
      "29  2023-12-22              5\n",
      "30  2023-12-26              1\n",
      "31  2023-12-27              1\n",
      "32  2023-12-28              1\n",
      "33  2023-12-29              1\n"
     ]
    }
   ],
   "source": [
    "news = pd.DataFrame(finnhub_client.company_news('PPL', _from=\"2023-01-01\", to='2024-01-01'))\n",
    "\n",
    "number_of_news = len(news)\n",
    "print(f'The number of news articles is {number_of_news}')\n",
    "\n",
    "\n",
    "news['datetime'] = pd.to_datetime(news['datetime'], unit='s').dt.date\n",
    "news_per_day = news.groupby('datetime').size().reset_index(name='article_count')\n",
    "print(news_per_day)\n",
    "\n"
   ]
  },
  {
   "cell_type": "code",
>>>>>>> eac3ee4 (all files)
   "execution_count": null,
   "metadata": {},
   "outputs": [],
   "source": []
  }
 ],
 "metadata": {
  "kernelspec": {
   "display_name": "Python 3",
   "language": "python",
   "name": "python3"
  },
  "language_info": {
   "codemirror_mode": {
    "name": "ipython",
    "version": 3
   },
   "file_extension": ".py",
   "mimetype": "text/x-python",
   "name": "python",
   "nbconvert_exporter": "python",
   "pygments_lexer": "ipython3",
   "version": "3.10.3"
  }
 },
 "nbformat": 4,
 "nbformat_minor": 2
}
